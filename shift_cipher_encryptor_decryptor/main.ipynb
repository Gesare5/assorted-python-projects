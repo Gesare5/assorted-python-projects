{
 "cells": [
  {
   "cell_type": "code",
   "execution_count": 21,
   "metadata": {},
   "outputs": [
    {
     "data": {
      "text/plain": [
       "'khb'"
      ]
     },
     "execution_count": 21,
     "metadata": {},
     "output_type": "execute_result"
    }
   ],
   "source": [
    "import string\n",
    "\n",
    "alphabet = list(string.ascii_lowercase)\n",
    "\n",
    "def convert_list_to_dict(py_list):\n",
    "    created_dict = {}\n",
    "    for i in range(0, len(py_list)):\n",
    "        created_dict[py_list[i]] = i + 1\n",
    "    return created_dict\n",
    "\n",
    "\n",
    "def encrypt(alphabet, plain_text, key):\n",
    "    encrypted = ''\n",
    "    alphabet_dict = convert_list_to_dict(alphabet)\n",
    "    for character in plain_text: \n",
    "        character_number = (alphabet_dict[character] + key) % len(alphabet)\n",
    "        new_character = list(alphabet_dict.keys())[list(alphabet_dict.values()).index(character_number)]\n",
    "        encrypted = encrypted + new_character\n",
    "    return encrypted\n",
    "\n",
    "encrypt(alphabet, 'hey', 3)"
   ]
  },
  {
   "cell_type": "code",
   "execution_count": 31,
   "metadata": {},
   "outputs": [
    {
     "data": {
      "text/plain": [
       "\"{'h'}{'e'}{'y'}\""
      ]
     },
     "execution_count": 31,
     "metadata": {},
     "output_type": "execute_result"
    }
   ],
   "source": [
    "# alphabet = list(string.ascii_lowercase)\n",
    "\n",
    "def convert_list_to_dict(py_list):\n",
    "    created_dict = {}\n",
    "    for i in range(0, len(py_list)):\n",
    "        created_dict[py_list[i]] = i + 1\n",
    "    return created_dict\n",
    "\n",
    "\n",
    "def decrypt(alphabet, plain_text, key):\n",
    "    encrypted = ''\n",
    "    alphabet_dict = convert_list_to_dict(alphabet)\n",
    "    for character in plain_text: \n",
    "        character_number = (alphabet_dict[character] - key) % len(alphabet)\n",
    "        new_character = {i for i in alphabet_dict if alphabet_dict[i]==character_number}\n",
    "        # new_character = list(alphabet_dict.keys())[list(alphabet_dict.values()).index(character_number)]\n",
    "        encrypted = encrypted + str(new_character)\n",
    "    return encrypted\n",
    "\n",
    "decrypt(alphabet, 'khb', 3)"
   ]
  },
  {
   "cell_type": "code",
   "execution_count": null,
   "metadata": {},
   "outputs": [],
   "source": []
  },
  {
   "cell_type": "code",
   "execution_count": null,
   "metadata": {},
   "outputs": [],
   "source": []
  }
 ],
 "metadata": {
  "kernelspec": {
   "display_name": "tweetme2-D8wPT-a6",
   "language": "python",
   "name": "python3"
  },
  "language_info": {
   "codemirror_mode": {
    "name": "ipython",
    "version": 3
   },
   "file_extension": ".py",
   "mimetype": "text/x-python",
   "name": "python",
   "nbconvert_exporter": "python",
   "pygments_lexer": "ipython3",
   "version": "3.6.9"
  },
  "orig_nbformat": 4
 },
 "nbformat": 4,
 "nbformat_minor": 2
}
