{
 "cells": [
  {
   "cell_type": "code",
   "execution_count": 40,
   "metadata": {},
   "outputs": [],
   "source": [
    "import pandas as pd\n",
    "import csv\n",
    "\n",
    "# Convert txt to clean csv\n",
    "with open('outpackages.txt') as file:\n",
    "    lines = csv.reader(file)\n",
    "    for line in file:\n",
    "        new_line_list = []\n",
    "        line_list = line.split(\" \")\n",
    "        for item in line_list:\n",
    "            if item:\n",
    "                new_line_list.append(item)\n",
    "        with open(\"outpackages.csv\", \"a\") as out_file:\n",
    "            writer = csv.writer(out_file)\n",
    "            writer.writerow(new_line_list)\n",
    "\n",
    "\n",
    "# Remove unrequired column\n",
    "df = pd.read_csv(\"outpackages.csv\")\n",
    "df.drop([\"Location\"], axis=1, inplace=True)\n",
    "# Save to csv/excel\n",
    "df.to_csv('complete.csv', index=None)\n"
   ]
  },
  {
   "cell_type": "code",
   "execution_count": null,
   "metadata": {},
   "outputs": [],
   "source": []
  }
 ],
 "metadata": {
  "kernelspec": {
   "display_name": "Python 3",
   "language": "python",
   "name": "python3"
  },
  "language_info": {
   "codemirror_mode": {
    "name": "ipython",
    "version": 3
   },
   "file_extension": ".py",
   "mimetype": "text/x-python",
   "name": "python",
   "nbconvert_exporter": "python",
   "pygments_lexer": "ipython3",
   "version": "3.8.10"
  }
 },
 "nbformat": 4,
 "nbformat_minor": 2
}
