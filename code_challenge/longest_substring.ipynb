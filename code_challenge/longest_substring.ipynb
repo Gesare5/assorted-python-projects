{
 "cells": [
  {
   "cell_type": "code",
   "execution_count": 4,
   "metadata": {},
   "outputs": [
    {
     "name": "stdout",
     "output_type": "stream",
     "text": [
      "\n"
     ]
    }
   ],
   "source": [
    "test_string = 'abcdeabc'\n",
    "char_list=[]\n",
    "\n",
    "def loop_through(test_word):\n",
    "    char_list.append(test_word[0])\n",
    "    for i in range(len(test_string)):\n",
    "        if test_word[i] not in char_list:\n",
    "            char_list.append(test_word[i])\n",
    "        else:\n",
    "            print( test_word[0:i])\n",
    "            break\n",
    "\n",
    "loop_through(test_string)            "
   ]
  }
 ],
 "metadata": {
  "kernelspec": {
   "display_name": "Python 3",
   "language": "python",
   "name": "python3"
  },
  "language_info": {
   "codemirror_mode": {
    "name": "ipython",
    "version": 3
   },
   "file_extension": ".py",
   "mimetype": "text/x-python",
   "name": "python",
   "nbconvert_exporter": "python",
   "pygments_lexer": "ipython3",
   "version": "3.8.10"
  }
 },
 "nbformat": 4,
 "nbformat_minor": 2
}
