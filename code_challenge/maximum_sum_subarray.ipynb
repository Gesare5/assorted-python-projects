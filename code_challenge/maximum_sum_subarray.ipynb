{
 "cells": [
  {
   "cell_type": "code",
   "execution_count": null,
   "metadata": {},
   "outputs": [],
   "source": [
    "\"\"\"\n",
    "INTERESTING ALTERNATIVES TO ORIGINAL QUESTION\n",
    "\n",
    "- Defined subarray size\n",
    "- Uniqueness/distictiveness of values is not to be considered\n",
    "\"\"\""
   ]
  },
  {
   "cell_type": "code",
   "execution_count": 2,
   "metadata": {},
   "outputs": [
    {
     "name": "stdout",
     "output_type": "stream",
     "text": [
      "[31]\n",
      "[42, 45, 51, 51]\n",
      "[45, 51, 51, 56]\n",
      "[51, 51, 56, 66]\n",
      "[51, 56, 66, 79]\n",
      "[17, 31, 31, 42, 45, 51, 51, 56, 66, 79, 81]\n",
      "(333, array([51, 56, 66, 79, 81]))\n"
     ]
    }
   ],
   "source": [
    "import numpy as np\n",
    "import random\n",
    "\n",
    "\n",
    "\"\"\"\n",
    "POINT TO NOTE: \n",
    "Array variables much like other variables point to the same spot in storage, \n",
    "so to hold state, you need to create a new array/location in storage separate from that which holds the main variable\n",
    "\"\"\"\n",
    "\n",
    "\n",
    "# QUESTION\n",
    "# Given array of elements find maximum sum subarray\n",
    "# ***** Requirements *****\n",
    "# Consider distinctiveness of values\n",
    "# subarray size is not defined\n",
    "\n",
    "sample_array = [2,3,9,1,7,8,2,2,1,3]\n",
    "\n",
    "def generate_random_list(length, limit):\n",
    "    random_list = []\n",
    "    for i in range(length):\n",
    "        random_list.append(random.randint(1,limit))\n",
    "    random_list.sort()\n",
    "    return random_list\n",
    "\n",
    "\n",
    "def areDistinct(arr) :\n",
    "    s = set(arr)\n",
    "    # n = len(arr)\n",
    "    # Put all array elements in a map\n",
    "    # for i in range(0, n): \n",
    "    #     s.add(arr[i])\n",
    "\n",
    "    return (len(s) == len(arr))\n",
    " \n",
    "\n",
    "def get_maximum_sum_array(sum_array):\n",
    "    # come up with a set\n",
    "    this_set = []\n",
    "    left=0\n",
    "    right=1\n",
    "    maximum_sum = 0\n",
    "    maximum_set=[]\n",
    "\n",
    "    while True:\n",
    "        if right>=len(sum_array):\n",
    "            break\n",
    "\n",
    "        if left>=len(sum_array):\n",
    "            break\n",
    "\n",
    "\n",
    "        this_set.append(sum_array[right])\n",
    "        is_set = areDistinct(this_set)\n",
    "        if is_set:\n",
    "            sub_total = sum(this_set)\n",
    "            if sub_total>maximum_sum:\n",
    "                maximum_sum = sub_total\n",
    "                maximum_set = np.array(this_set)\n",
    "            right+=1  \n",
    "        else: \n",
    "            this_set.pop(left)\n",
    "            print(this_set)\n",
    "            right+=1    \n",
    "\n",
    "    return (maximum_sum,maximum_set)       \n",
    "\n",
    "\n",
    "random_array = generate_random_list(11,100)\n",
    "maximums = get_maximum_sum_array(random_array)\n",
    "print(random_array)\n",
    "print(maximums)\n"
   ]
  },
  {
   "cell_type": "code",
   "execution_count": null,
   "metadata": {},
   "outputs": [],
   "source": []
  }
 ],
 "metadata": {
  "kernelspec": {
   "display_name": "Python 3",
   "language": "python",
   "name": "python3"
  },
  "language_info": {
   "codemirror_mode": {
    "name": "ipython",
    "version": 3
   },
   "file_extension": ".py",
   "mimetype": "text/x-python",
   "name": "python",
   "nbconvert_exporter": "python",
   "pygments_lexer": "ipython3",
   "version": "3.8.10"
  }
 },
 "nbformat": 4,
 "nbformat_minor": 2
}
