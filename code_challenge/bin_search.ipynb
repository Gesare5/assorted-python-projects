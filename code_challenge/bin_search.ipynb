{
 "cells": [
  {
   "cell_type": "code",
   "execution_count": 34,
   "metadata": {},
   "outputs": [],
   "source": [
    "import random\n",
    "\n",
    "\n",
    "def generate_random_list(length, limit):\n",
    "    random_list = []\n",
    "    for i in range(length):\n",
    "        random_list.append(random.randint(1,limit))\n",
    "    random_list.sort()\n",
    "    return random_list\n",
    "\n",
    "    "
   ]
  },
  {
   "cell_type": "code",
   "execution_count": 43,
   "metadata": {},
   "outputs": [
    {
     "name": "stdout",
     "output_type": "stream",
     "text": [
      "[4, 4, 23, 31, 47, 64, 76, 85, 85, 86, 92]\n",
      "6\n",
      "heres\n",
      "called\n",
      "3\n",
      "heres\n",
      "2\n",
      "heres\n",
      "called\n",
      "1\n",
      "heres\n",
      "called\n",
      "0\n",
      "heres\n"
     ]
    },
    {
     "data": {
      "text/plain": [
       "-1"
      ]
     },
     "execution_count": 43,
     "metadata": {},
     "output_type": "execute_result"
    }
   ],
   "source": [
    "\n",
    "def bin_search(searchable, list):\n",
    "    middle_index = round(len(list)/2) \n",
    "    print(middle_index)\n",
    "    print('heres')\n",
    "\n",
    "#    the value isn't present in the list\n",
    "    if middle_index == 0:\n",
    "        return -1\n",
    "#    check if value is greater than or less than middle value\n",
    "    if(searchable<list[middle_index]):\n",
    "        print('called')\n",
    "        return bin_search(searchable, list[0:middle_index])\n",
    "    elif(searchable>list[middle_index]):\n",
    "        return bin_search(searchable, list[middle_index:len(list)])\n",
    "    else:\n",
    "        print('called this')\n",
    "        return middle_index\n",
    "    \n",
    "\n",
    "# sample_list = [1,2,3,4,5,6,7,8,9,10] \n",
    "# indx = search(2,sample_list)\n",
    "# indx\n",
    "\n",
    "new_list = generate_random_list(11, 100)\n",
    "print(new_list)\n",
    "search_index = bin_search(34, new_list)\n",
    "search_index\n"
   ]
  }
 ],
 "metadata": {
  "kernelspec": {
   "display_name": "Python 3",
   "language": "python",
   "name": "python3"
  },
  "language_info": {
   "codemirror_mode": {
    "name": "ipython",
    "version": 3
   },
   "file_extension": ".py",
   "mimetype": "text/x-python",
   "name": "python",
   "nbconvert_exporter": "python",
   "pygments_lexer": "ipython3",
   "version": "3.8.10"
  }
 },
 "nbformat": 4,
 "nbformat_minor": 2
}
