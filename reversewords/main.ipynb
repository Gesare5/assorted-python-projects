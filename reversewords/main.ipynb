{
 "cells": [
  {
   "cell_type": "code",
   "execution_count": 4,
   "metadata": {},
   "outputs": [
    {
     "data": {
      "text/plain": [
       "'elppa'"
      ]
     },
     "execution_count": 4,
     "metadata": {},
     "output_type": "execute_result"
    }
   ],
   "source": [
    "def reverse_word(word):\n",
    "    in_reverse = ''\n",
    "    for c in word:\n",
    "        in_reverse = c + in_reverse\n",
    "    return in_reverse\n",
    "\n",
    "reverse_word('apple')   "
   ]
  },
  {
   "cell_type": "code",
   "execution_count": 5,
   "metadata": {},
   "outputs": [
    {
     "data": {
      "text/plain": [
       "['I', 'like', 'bananas']"
      ]
     },
     "execution_count": 5,
     "metadata": {},
     "output_type": "execute_result"
    }
   ],
   "source": [
    "def split_words(sentence):\n",
    "    word_list = sentence.split()\n",
    "    return word_list\n",
    "\n",
    "split_words('I like bananas')"
   ]
  },
  {
   "cell_type": "code",
   "execution_count": 6,
   "metadata": {},
   "outputs": [
    {
     "data": {
      "text/plain": [
       "'ehT daor ton nekat'"
      ]
     },
     "execution_count": 6,
     "metadata": {},
     "output_type": "execute_result"
    }
   ],
   "source": [
    "def reverse_words_per_sentence(sentences):\n",
    "    word_list = split_words(sentences)\n",
    "    new_word_list = []\n",
    "    for word in word_list:\n",
    "        reverse = reverse_word(word)\n",
    "        new_word_list.append(reverse)\n",
    "    return \" \".join(new_word_list)\n",
    "\n",
    "reverse_words_per_sentence('The road not taken')"
   ]
  },
  {
   "cell_type": "code",
   "execution_count": 7,
   "metadata": {},
   "outputs": [
    {
     "data": {
      "text/plain": [
       "['sample', 'text', 'only', 'left', '(5', 'Right', '12.53)', 'all:', 'broken']"
      ]
     },
     "execution_count": 7,
     "metadata": {},
     "output_type": "execute_result"
    }
   ],
   "source": [
    "sentences =\"\"\"\n",
    "            sample text only\n",
    "            left (5 Right 12.53)\n",
    "\n",
    "            all: broken\n",
    "            \"\"\"\n",
    "\n",
    "split_words(sentences)\n",
    "\n"
   ]
  },
  {
   "cell_type": "code",
   "execution_count": 8,
   "metadata": {},
   "outputs": [
    {
     "name": "stdout",
     "output_type": "stream",
     "text": [
      "sample text only\n",
      "\n",
      "left (5 Right 12.53)\n",
      "\n",
      "\n",
      "\n",
      "all: broken\n"
     ]
    }
   ],
   "source": [
    "with open('words.txt') as file:\n",
    "    for line in file.readlines():\n",
    "        print(line)"
   ]
  },
  {
   "cell_type": "code",
   "execution_count": 9,
   "metadata": {},
   "outputs": [
    {
     "data": {
      "text/plain": [
       "['sample text only\\n', 'left (5 Right 12.53)\\n', '\\n', 'all: broken']"
      ]
     },
     "execution_count": 9,
     "metadata": {},
     "output_type": "execute_result"
    }
   ],
   "source": [
    "def read_file():\n",
    "    with open('words.txt') as file:\n",
    "        sentences = []\n",
    "        for line in file.readlines():\n",
    "            sentences.append(line)\n",
    "    return sentences    \n",
    "\n",
    "read_file()"
   ]
  },
  {
   "cell_type": "code",
   "execution_count": 13,
   "metadata": {},
   "outputs": [
    {
     "data": {
      "text/plain": [
       "['elpmas txet ylno\\n', 'tfel 5( thgiR )35.21\\n', '\\n', ':lla nekorb\\n']"
      ]
     },
     "execution_count": 13,
     "metadata": {},
     "output_type": "execute_result"
    }
   ],
   "source": [
    "def main():\n",
    "    sentences = read_file()\n",
    "    sentence_list = []\n",
    "    for sentence in sentences:\n",
    "        reversed_sentence = reverse_words_per_sentence(sentence)\n",
    "        reversed_sentence = reversed_sentence + '\\n'\n",
    "        sentence_list.append(reversed_sentence)\n",
    "    return sentence_list    \n",
    "\n",
    "\n",
    "main()"
   ]
  },
  {
   "cell_type": "code",
   "execution_count": 17,
   "metadata": {},
   "outputs": [],
   "source": [
    "def print_out_to_file(reversed):\n",
    "    with open('reversed.txt', 'a') as file:\n",
    "        # reversed = main()\n",
    "        for line in reversed:\n",
    "            file.write(line)\n",
    "        "
   ]
  },
  {
   "cell_type": "code",
   "execution_count": 18,
   "metadata": {},
   "outputs": [],
   "source": [
    "def main():\n",
    "    sentences = read_file()\n",
    "    sentence_list = []\n",
    "    for sentence in sentences:\n",
    "        reversed_sentence = reverse_words_per_sentence(sentence)\n",
    "        reversed_sentence = reversed_sentence + \"\\n\"\n",
    "        sentence_list.append(reversed_sentence)\n",
    "    print_out_to_file(sentence_list)"
   ]
  },
  {
   "cell_type": "code",
   "execution_count": 19,
   "metadata": {},
   "outputs": [],
   "source": [
    "main()"
   ]
  },
  {
   "cell_type": "code",
   "execution_count": null,
   "metadata": {},
   "outputs": [],
   "source": []
  }
 ],
 "metadata": {
  "kernelspec": {
   "display_name": "Python 3",
   "language": "python",
   "name": "python3"
  },
  "language_info": {
   "codemirror_mode": {
    "name": "ipython",
    "version": 3
   },
   "file_extension": ".py",
   "mimetype": "text/x-python",
   "name": "python",
   "nbconvert_exporter": "python",
   "pygments_lexer": "ipython3",
   "version": "3.8.10"
  }
 },
 "nbformat": 4,
 "nbformat_minor": 2
}
