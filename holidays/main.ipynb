{
 "cells": [
  {
   "cell_type": "code",
   "execution_count": 30,
   "metadata": {},
   "outputs": [
    {
     "data": {
      "text/plain": [
       "[datetime.date(2024, 1, 1),\n",
       " datetime.date(2024, 3, 29),\n",
       " datetime.date(2024, 4, 1),\n",
       " datetime.date(2024, 5, 1),\n",
       " datetime.date(2024, 6, 1),\n",
       " datetime.date(2024, 10, 10),\n",
       " datetime.date(2024, 10, 20),\n",
       " datetime.date(2024, 10, 21),\n",
       " datetime.date(2024, 12, 12),\n",
       " datetime.date(2024, 12, 25),\n",
       " datetime.date(2024, 12, 26)]"
      ]
     },
     "execution_count": 30,
     "metadata": {},
     "output_type": "execute_result"
    }
   ],
   "source": [
    "# from datetime import datetime,date\n",
    "import holidays\n",
    "\n",
    "holiday_date_list=[]\n",
    "\n",
    "# Get all the holidays in Kenya in year 2024\n",
    "for ptr in holidays.Kenya(years=2024).items():\n",
    "    holiday_day, holiday = ptr\n",
    "    holiday_date_list.append(holiday_day)\n",
    "\n",
    "holiday_date_list    "
   ]
  },
  {
   "cell_type": "code",
   "execution_count": 31,
   "metadata": {},
   "outputs": [
    {
     "data": {
      "text/plain": [
       "['Mon Jan  1 00:00:00 2024',\n",
       " 'Fri Mar 29 00:00:00 2024',\n",
       " 'Mon Apr  1 00:00:00 2024',\n",
       " 'Wed May  1 00:00:00 2024',\n",
       " 'Sat Jun  1 00:00:00 2024',\n",
       " 'Thu Oct 10 00:00:00 2024',\n",
       " 'Sun Oct 20 00:00:00 2024',\n",
       " 'Mon Oct 21 00:00:00 2024',\n",
       " 'Thu Dec 12 00:00:00 2024',\n",
       " 'Wed Dec 25 00:00:00 2024',\n",
       " 'Thu Dec 26 00:00:00 2024']"
      ]
     },
     "execution_count": 31,
     "metadata": {},
     "output_type": "execute_result"
    }
   ],
   "source": [
    "formatted_date_list = []\n",
    "# Format date list to show day of the week\n",
    "for date in holiday_date_list:\n",
    "    new_date = date.ctime()\n",
    "    formatted_date_list.append(new_date)\n",
    "\n",
    "formatted_date_list    "
   ]
  },
  {
   "cell_type": "code",
   "execution_count": 34,
   "metadata": {},
   "outputs": [
    {
     "name": "stdout",
     "output_type": "stream",
     "text": [
      "Total # of holidays: 11\n",
      "Days off: 5\n",
      "['Mon Jan  1 00:00:00 2024', 'Mon Apr  1 00:00:00 2024', 'Wed May  1 00:00:00 2024', 'Mon Oct 21 00:00:00 2024', 'Wed Dec 25 00:00:00 2024']\n"
     ]
    }
   ],
   "source": [
    "# list_of_off_days = [x for x in new_list if \"Mon\" or \"Tue\" or \"Wed\" in x]\n",
    "list_of_off_days = []\n",
    "for new_date in formatted_date_list:\n",
    "    if \"Mon\" in new_date or \"Tue\" in new_date or \"Wed\" in new_date:\n",
    "        list_of_off_days.append(new_date)\n",
    "\n",
    "print(\"Total # of holidays:\", len(formatted_date_list))\n",
    "print(\"Days off:\", len(list_of_off_days))\n",
    "print(list_of_off_days)"
   ]
  },
  {
   "cell_type": "code",
   "execution_count": null,
   "metadata": {},
   "outputs": [],
   "source": []
  }
 ],
 "metadata": {
  "kernelspec": {
   "display_name": "Python 3",
   "language": "python",
   "name": "python3"
  },
  "language_info": {
   "codemirror_mode": {
    "name": "ipython",
    "version": 3
   },
   "file_extension": ".py",
   "mimetype": "text/x-python",
   "name": "python",
   "nbconvert_exporter": "python",
   "pygments_lexer": "ipython3",
   "version": "3.8.10"
  }
 },
 "nbformat": 4,
 "nbformat_minor": 2
}
