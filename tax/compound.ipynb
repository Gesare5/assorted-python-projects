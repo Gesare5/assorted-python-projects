{
 "cells": [
  {
   "cell_type": "code",
   "execution_count": 10,
   "metadata": {},
   "outputs": [],
   "source": [
    "import matplotlib.pyplot as plt\n",
    "import pandas as pd\n",
    "import calendar"
   ]
  },
  {
   "cell_type": "code",
   "execution_count": 2,
   "metadata": {},
   "outputs": [
    {
     "data": {
      "text/plain": [
       "[179391.495,\n",
       " 200388.45247499997,\n",
       " 221490.39473737494,\n",
       " 242697.84671106178,\n",
       " 264011.33594461705,\n",
       " 285431.3926243401,\n",
       " 306958.54958746175,\n",
       " 328593.342335399,\n",
       " 350336.309047076,\n",
       " 372187.9905923113,\n",
       " 394148.93054527283,\n",
       " 416219.67519799917]"
      ]
     },
     "execution_count": 2,
     "metadata": {},
     "output_type": "execute_result"
    }
   ],
   "source": [
    "period = [item for item in range(1,13) ]\n",
    "\n",
    "compoundLists = []\n",
    "startList=[]\n",
    "inter =[]\n",
    "\n",
    "def compound():\n",
    "    start = 178499\n",
    "    \n",
    "    for t in period:\n",
    "        startList.append(start)\n",
    "        formula =  (1 + (0.06/12))**1\n",
    "        final = start * formula\n",
    "        diff = final - start\n",
    "        inter.append(diff)\n",
    "        start = final + 20000\n",
    "        compoundLists.append(final)\n",
    "\n",
    "    # return compoundLists\n",
    "\n",
    "compound()\n",
    "compoundList = compoundLists\n",
    "compoundList"
   ]
  },
  {
   "cell_type": "code",
   "execution_count": 3,
   "metadata": {},
   "outputs": [
    {
     "data": {
      "text/plain": [
       "Text(0,0.5,'Compound')"
      ]
     },
     "execution_count": 3,
     "metadata": {},
     "output_type": "execute_result"
    },
    {
     "data": {
      "image/png": "[encoded data removed]",
      "text/plain": [
       "<matplotlib.figure.Figure at 0x7fecec6d9860>"
      ]
     },
     "metadata": {
      "needs_background": "light"
     },
     "output_type": "display_data"
    }
   ],
   "source": [
    "plt.plot(period, compoundList)\n",
    "plt.title('Compound')\n",
    "plt.xlabel('Time')\n",
    "plt.ylabel('Compound')"
   ]
  },
  {
   "cell_type": "code",
   "execution_count": 4,
   "metadata": {},
   "outputs": [],
   "source": [
    "df = pd.DataFrame(startList)\n"
   ]
  },
  {
   "cell_type": "code",
   "execution_count": 5,
   "metadata": {},
   "outputs": [
    {
     "data": {
      "text/html": [
       "<div>\n",
       "<style scoped>\n",
       "    .dataframe tbody tr th:only-of-type {\n",
       "        vertical-align: middle;\n",
       "    }\n",
       "\n",
       "    .dataframe tbody tr th {\n",
       "        vertical-align: top;\n",
       "    }\n",
       "\n",
       "    .dataframe thead th {\n",
       "        text-align: right;\n",
       "    }\n",
       "</style>\n",
       "<table border=\"1\" class=\"dataframe\">\n",
       "  <thead>\n",
       "    <tr style=\"text-align: right;\">\n",
       "      <th></th>\n",
       "      <th>0</th>\n",
       "    </tr>\n",
       "  </thead>\n",
       "  <tbody>\n",
       "    <tr>\n",
       "      <th>0</th>\n",
       "      <td>178499.000000</td>\n",
       "    </tr>\n",
       "    <tr>\n",
       "      <th>1</th>\n",
       "      <td>199391.495000</td>\n",
       "    </tr>\n",
       "    <tr>\n",
       "      <th>2</th>\n",
       "      <td>220388.452475</td>\n",
       "    </tr>\n",
       "    <tr>\n",
       "      <th>3</th>\n",
       "      <td>241490.394737</td>\n",
       "    </tr>\n",
       "    <tr>\n",
       "      <th>4</th>\n",
       "      <td>262697.846711</td>\n",
       "    </tr>\n",
       "    <tr>\n",
       "      <th>5</th>\n",
       "      <td>284011.335945</td>\n",
       "    </tr>\n",
       "    <tr>\n",
       "      <th>6</th>\n",
       "      <td>305431.392624</td>\n",
       "    </tr>\n",
       "    <tr>\n",
       "      <th>7</th>\n",
       "      <td>326958.549587</td>\n",
       "    </tr>\n",
       "    <tr>\n",
       "      <th>8</th>\n",
       "      <td>348593.342335</td>\n",
       "    </tr>\n",
       "    <tr>\n",
       "      <th>9</th>\n",
       "      <td>370336.309047</td>\n",
       "    </tr>\n",
       "    <tr>\n",
       "      <th>10</th>\n",
       "      <td>392187.990592</td>\n",
       "    </tr>\n",
       "    <tr>\n",
       "      <th>11</th>\n",
       "      <td>414148.930545</td>\n",
       "    </tr>\n",
       "  </tbody>\n",
       "</table>\n",
       "</div>"
      ],
      "text/plain": [
       "                0\n",
       "0   178499.000000\n",
       "1   199391.495000\n",
       "2   220388.452475\n",
       "3   241490.394737\n",
       "4   262697.846711\n",
       "5   284011.335945\n",
       "6   305431.392624\n",
       "7   326958.549587\n",
       "8   348593.342335\n",
       "9   370336.309047\n",
       "10  392187.990592\n",
       "11  414148.930545"
      ]
     },
     "execution_count": 5,
     "metadata": {},
     "output_type": "execute_result"
    }
   ],
   "source": [
    "df"
   ]
  },
  {
   "cell_type": "code",
   "execution_count": 6,
   "metadata": {},
   "outputs": [],
   "source": [
    "df.rename(columns={0:'Start List'}, inplace=True)"
   ]
  },
  {
   "cell_type": "code",
   "execution_count": 7,
   "metadata": {},
   "outputs": [],
   "source": [
    "df['CompoundList'] = compoundList"
   ]
  },
  {
   "cell_type": "markdown",
   "metadata": {},
   "source": []
  },
  {
   "cell_type": "code",
   "execution_count": 8,
   "metadata": {},
   "outputs": [],
   "source": [
    "df['inter'] = inter"
   ]
  },
  {
   "cell_type": "code",
   "execution_count": 9,
   "metadata": {},
   "outputs": [
    {
     "data": {
      "text/html": [
       "<div>\n",
       "<style scoped>\n",
       "    .dataframe tbody tr th:only-of-type {\n",
       "        vertical-align: middle;\n",
       "    }\n",
       "\n",
       "    .dataframe tbody tr th {\n",
       "        vertical-align: top;\n",
       "    }\n",
       "\n",
       "    .dataframe thead th {\n",
       "        text-align: right;\n",
       "    }\n",
       "</style>\n",
       "<table border=\"1\" class=\"dataframe\">\n",
       "  <thead>\n",
       "    <tr style=\"text-align: right;\">\n",
       "      <th></th>\n",
       "      <th>Start List</th>\n",
       "      <th>CompoundList</th>\n",
       "      <th>inter</th>\n",
       "    </tr>\n",
       "  </thead>\n",
       "  <tbody>\n",
       "    <tr>\n",
       "      <th>0</th>\n",
       "      <td>178499.000000</td>\n",
       "      <td>179391.495000</td>\n",
       "      <td>892.495000</td>\n",
       "    </tr>\n",
       "    <tr>\n",
       "      <th>1</th>\n",
       "      <td>199391.495000</td>\n",
       "      <td>200388.452475</td>\n",
       "      <td>996.957475</td>\n",
       "    </tr>\n",
       "    <tr>\n",
       "      <th>2</th>\n",
       "      <td>220388.452475</td>\n",
       "      <td>221490.394737</td>\n",
       "      <td>1101.942262</td>\n",
       "    </tr>\n",
       "    <tr>\n",
       "      <th>3</th>\n",
       "      <td>241490.394737</td>\n",
       "      <td>242697.846711</td>\n",
       "      <td>1207.451974</td>\n",
       "    </tr>\n",
       "    <tr>\n",
       "      <th>4</th>\n",
       "      <td>262697.846711</td>\n",
       "      <td>264011.335945</td>\n",
       "      <td>1313.489234</td>\n",
       "    </tr>\n",
       "    <tr>\n",
       "      <th>5</th>\n",
       "      <td>284011.335945</td>\n",
       "      <td>285431.392624</td>\n",
       "      <td>1420.056680</td>\n",
       "    </tr>\n",
       "    <tr>\n",
       "      <th>6</th>\n",
       "      <td>305431.392624</td>\n",
       "      <td>306958.549587</td>\n",
       "      <td>1527.156963</td>\n",
       "    </tr>\n",
       "    <tr>\n",
       "      <th>7</th>\n",
       "      <td>326958.549587</td>\n",
       "      <td>328593.342335</td>\n",
       "      <td>1634.792748</td>\n",
       "    </tr>\n",
       "    <tr>\n",
       "      <th>8</th>\n",
       "      <td>348593.342335</td>\n",
       "      <td>350336.309047</td>\n",
       "      <td>1742.966712</td>\n",
       "    </tr>\n",
       "    <tr>\n",
       "      <th>9</th>\n",
       "      <td>370336.309047</td>\n",
       "      <td>372187.990592</td>\n",
       "      <td>1851.681545</td>\n",
       "    </tr>\n",
       "    <tr>\n",
       "      <th>10</th>\n",
       "      <td>392187.990592</td>\n",
       "      <td>394148.930545</td>\n",
       "      <td>1960.939953</td>\n",
       "    </tr>\n",
       "    <tr>\n",
       "      <th>11</th>\n",
       "      <td>414148.930545</td>\n",
       "      <td>416219.675198</td>\n",
       "      <td>2070.744653</td>\n",
       "    </tr>\n",
       "  </tbody>\n",
       "</table>\n",
       "</div>"
      ],
      "text/plain": [
       "       Start List   CompoundList        inter\n",
       "0   178499.000000  179391.495000   892.495000\n",
       "1   199391.495000  200388.452475   996.957475\n",
       "2   220388.452475  221490.394737  1101.942262\n",
       "3   241490.394737  242697.846711  1207.451974\n",
       "4   262697.846711  264011.335945  1313.489234\n",
       "5   284011.335945  285431.392624  1420.056680\n",
       "6   305431.392624  306958.549587  1527.156963\n",
       "7   326958.549587  328593.342335  1634.792748\n",
       "8   348593.342335  350336.309047  1742.966712\n",
       "9   370336.309047  372187.990592  1851.681545\n",
       "10  392187.990592  394148.930545  1960.939953\n",
       "11  414148.930545  416219.675198  2070.744653"
      ]
     },
     "execution_count": 9,
     "metadata": {},
     "output_type": "execute_result"
    }
   ],
   "source": [
    "df"
   ]
  },
  {
   "cell_type": "code",
   "execution_count": 13,
   "metadata": {},
   "outputs": [
    {
     "data": {
      "text/plain": [
       "['January',\n",
       " 'February',\n",
       " 'March',\n",
       " 'April',\n",
       " 'May',\n",
       " 'June',\n",
       " 'July',\n",
       " 'August',\n",
       " 'September',\n",
       " 'October',\n",
       " 'November',\n",
       " 'December']"
      ]
     },
     "execution_count": 13,
     "metadata": {},
     "output_type": "execute_result"
    }
   ],
   "source": [
    "endof = [calendar.month_name[i] for i in range(1,13)]\n",
    "endof"
   ]
  },
  {
   "cell_type": "code",
   "execution_count": 14,
   "metadata": {},
   "outputs": [],
   "source": [
    "df['endof'] = endof"
   ]
  },
  {
   "cell_type": "code",
   "execution_count": 15,
   "metadata": {},
   "outputs": [
    {
     "data": {
      "text/html": [
       "<div>\n",
       "<style scoped>\n",
       "    .dataframe tbody tr th:only-of-type {\n",
       "        vertical-align: middle;\n",
       "    }\n",
       "\n",
       "    .dataframe tbody tr th {\n",
       "        vertical-align: top;\n",
       "    }\n",
       "\n",
       "    .dataframe thead th {\n",
       "        text-align: right;\n",
       "    }\n",
       "</style>\n",
       "<table border=\"1\" class=\"dataframe\">\n",
       "  <thead>\n",
       "    <tr style=\"text-align: right;\">\n",
       "      <th></th>\n",
       "      <th>Start List</th>\n",
       "      <th>CompoundList</th>\n",
       "      <th>inter</th>\n",
       "      <th>endof</th>\n",
       "    </tr>\n",
       "  </thead>\n",
       "  <tbody>\n",
       "    <tr>\n",
       "      <th>0</th>\n",
       "      <td>178499.000000</td>\n",
       "      <td>179391.495000</td>\n",
       "      <td>892.495000</td>\n",
       "      <td>January</td>\n",
       "    </tr>\n",
       "    <tr>\n",
       "      <th>1</th>\n",
       "      <td>199391.495000</td>\n",
       "      <td>200388.452475</td>\n",
       "      <td>996.957475</td>\n",
       "      <td>February</td>\n",
       "    </tr>\n",
       "    <tr>\n",
       "      <th>2</th>\n",
       "      <td>220388.452475</td>\n",
       "      <td>221490.394737</td>\n",
       "      <td>1101.942262</td>\n",
       "      <td>March</td>\n",
       "    </tr>\n",
       "    <tr>\n",
       "      <th>3</th>\n",
       "      <td>241490.394737</td>\n",
       "      <td>242697.846711</td>\n",
       "      <td>1207.451974</td>\n",
       "      <td>April</td>\n",
       "    </tr>\n",
       "    <tr>\n",
       "      <th>4</th>\n",
       "      <td>262697.846711</td>\n",
       "      <td>264011.335945</td>\n",
       "      <td>1313.489234</td>\n",
       "      <td>May</td>\n",
       "    </tr>\n",
       "    <tr>\n",
       "      <th>5</th>\n",
       "      <td>284011.335945</td>\n",
       "      <td>285431.392624</td>\n",
       "      <td>1420.056680</td>\n",
       "      <td>June</td>\n",
       "    </tr>\n",
       "    <tr>\n",
       "      <th>6</th>\n",
       "      <td>305431.392624</td>\n",
       "      <td>306958.549587</td>\n",
       "      <td>1527.156963</td>\n",
       "      <td>July</td>\n",
       "    </tr>\n",
       "    <tr>\n",
       "      <th>7</th>\n",
       "      <td>326958.549587</td>\n",
       "      <td>328593.342335</td>\n",
       "      <td>1634.792748</td>\n",
       "      <td>August</td>\n",
       "    </tr>\n",
       "    <tr>\n",
       "      <th>8</th>\n",
       "      <td>348593.342335</td>\n",
       "      <td>350336.309047</td>\n",
       "      <td>1742.966712</td>\n",
       "      <td>September</td>\n",
       "    </tr>\n",
       "    <tr>\n",
       "      <th>9</th>\n",
       "      <td>370336.309047</td>\n",
       "      <td>372187.990592</td>\n",
       "      <td>1851.681545</td>\n",
       "      <td>October</td>\n",
       "    </tr>\n",
       "    <tr>\n",
       "      <th>10</th>\n",
       "      <td>392187.990592</td>\n",
       "      <td>394148.930545</td>\n",
       "      <td>1960.939953</td>\n",
       "      <td>November</td>\n",
       "    </tr>\n",
       "    <tr>\n",
       "      <th>11</th>\n",
       "      <td>414148.930545</td>\n",
       "      <td>416219.675198</td>\n",
       "      <td>2070.744653</td>\n",
       "      <td>December</td>\n",
       "    </tr>\n",
       "  </tbody>\n",
       "</table>\n",
       "</div>"
      ],
      "text/plain": [
       "       Start List   CompoundList        inter      endof\n",
       "0   178499.000000  179391.495000   892.495000    January\n",
       "1   199391.495000  200388.452475   996.957475   February\n",
       "2   220388.452475  221490.394737  1101.942262      March\n",
       "3   241490.394737  242697.846711  1207.451974      April\n",
       "4   262697.846711  264011.335945  1313.489234        May\n",
       "5   284011.335945  285431.392624  1420.056680       June\n",
       "6   305431.392624  306958.549587  1527.156963       July\n",
       "7   326958.549587  328593.342335  1634.792748     August\n",
       "8   348593.342335  350336.309047  1742.966712  September\n",
       "9   370336.309047  372187.990592  1851.681545    October\n",
       "10  392187.990592  394148.930545  1960.939953   November\n",
       "11  414148.930545  416219.675198  2070.744653   December"
      ]
     },
     "execution_count": 15,
     "metadata": {},
     "output_type": "execute_result"
    }
   ],
   "source": [
    "df"
   ]
  },
  {
   "cell_type": "code",
   "execution_count": null,
   "metadata": {},
   "outputs": [],
   "source": []
  }
 ],
 "metadata": {
  "kernelspec": {
   "display_name": "Python 3",
   "language": "python",
   "name": "python3"
  },
  "language_info": {
   "codemirror_mode": {
    "name": "ipython",
    "version": 3
   },
   "file_extension": ".py",
   "mimetype": "text/x-python",
   "name": "python",
   "nbconvert_exporter": "python",
   "pygments_lexer": "ipython3",
   "version": "3.6.9"
  },
  "orig_nbformat": 4,
  "vscode": {
   "interpreter": {
    "hash": "31f2aee4e71d21fbe5cf8b01ff0e069b9275f58929596ceb00d14d90e3e16cd6"
   }
  }
 },
 "nbformat": 4,
 "nbformat_minor": 2
}
